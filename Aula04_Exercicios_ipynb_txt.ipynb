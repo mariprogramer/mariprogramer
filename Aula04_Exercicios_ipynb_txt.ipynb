{
  "nbformat": 4,
  "nbformat_minor": 0,
  "metadata": {
    "colab": {
      "name": "Aula04_Exercicios.ipynb.txt",
      "provenance": [],
      "collapsed_sections": [],
      "toc_visible": true,
      "include_colab_link": true
    },
    "kernelspec": {
      "name": "python3",
      "display_name": "Python 3"
    },
    "language_info": {
      "name": "python"
    }
  },
  "cells": [
    {
      "cell_type": "markdown",
      "metadata": {
        "id": "view-in-github",
        "colab_type": "text"
      },
      "source": [
        "<a href=\"https://colab.research.google.com/github/mariprogramer/mariprogramer/blob/main/Aula04_Exercicios_ipynb_txt.ipynb\" target=\"_parent\"><img src=\"https://colab.research.google.com/assets/colab-badge.svg\" alt=\"Open In Colab\"/></a>"
      ]
    },
    {
      "cell_type": "markdown",
      "metadata": {
        "id": "DptQTkwqN7v9"
      },
      "source": [
        "# Exercícios de Aquecimento\n",
        "\n",
        "## Exercício 01\n",
        "Elabore um programa que imprima na tela a seguinte frase `Olá Mundo! Esse é o meu primeiro programa`"
      ]
    },
    {
      "cell_type": "code",
      "metadata": {
        "id": "fu-Hvxg7OT64",
        "colab": {
          "base_uri": "https://localhost:8080/"
        },
        "outputId": "d7f5840a-1c3f-468f-dfed-a037a4b51d7c"
      },
      "source": [
        "print(\"Ola mundo, esse é meu primeiro programa\")"
      ],
      "execution_count": 1,
      "outputs": [
        {
          "output_type": "stream",
          "text": [
            "Ola mundo, esse é meu primeiro programa\n"
          ],
          "name": "stdout"
        }
      ]
    },
    {
      "cell_type": "markdown",
      "metadata": {
        "id": "HYnPLbl2OfuE"
      },
      "source": [
        "## Exercício 02\n",
        "Elabore um programa que escreve seu nome completo na primeira linha, seu endereço na segunda e o CEP e telefone na terceira.  \n",
        "\n",
        "**Exemplo:**\n",
        "```\n",
        "Nome: Bruno Fabri\n",
        "Endereço: Rua ABC\n",
        "CEP: 002220-010\n",
        "```"
      ]
    },
    {
      "cell_type": "code",
      "metadata": {
        "id": "sUrmuOzbO5Cd",
        "colab": {
          "base_uri": "https://localhost:8080/"
        },
        "outputId": "c8827a9d-d78e-493d-f067-375d2d1653a8"
      },
      "source": [
        "print(\"nome: Marina de carla Nogueira Guicioli\")\n",
        "print(\"Endereço: José cardoso pimentel \")\n",
        "print(\"cep: 08110-490\")\n",
        "print(\"telefone: 98731-8361\")"
      ],
      "execution_count": 3,
      "outputs": [
        {
          "output_type": "stream",
          "text": [
            "nome: Marina de carla Nogueira Guicioli\n",
            "Endereço: José cardoso pimentel \n",
            "cep: 08110-490\n",
            "telefone: 98731-8361\n"
          ],
          "name": "stdout"
        }
      ]
    },
    {
      "cell_type": "markdown",
      "metadata": {
        "id": "5XVY0cvwP1WX"
      },
      "source": [
        "## Exercício 03\n",
        "Elabore um programa que recebe o nome de uma pessoa do terminal e mostra a seguinte mensagem: `Olá {nome}! Seja bem vindo ao fantástico mundo da programação`"
      ]
    },
    {
      "cell_type": "code",
      "metadata": {
        "id": "VDfwe6OSQM0M",
        "colab": {
          "base_uri": "https://localhost:8080/"
        },
        "outputId": "345981b7-6ff6-4195-bc97-e995fc2eea78"
      },
      "source": [
        "n = input(\"Qual seu nome?: \")\n",
        "print(f\"Ola {n}! Seja bem vindo\" )"
      ],
      "execution_count": 14,
      "outputs": [
        {
          "output_type": "stream",
          "text": [
            "Qual seu nome?: Marina\n",
            "Ola Marina! Seja bem vindo\n"
          ],
          "name": "stdout"
        }
      ]
    },
    {
      "cell_type": "markdown",
      "metadata": {
        "id": "1Nb29agVQc3k"
      },
      "source": [
        "## Exercício 04\n",
        "Elabore um programa que recebe dois valores inteiros e mostra a soma desses valores\n",
        "\n",
        "**Exemplo:**\n",
        "\n",
        "```\n",
        "Primeiro Valor = 2\n",
        "Segundo Valor = 3\n",
        "Soma = 5\n",
        "```"
      ]
    },
    {
      "cell_type": "code",
      "metadata": {
        "id": "a6_BwVwRROmH",
        "colab": {
          "base_uri": "https://localhost:8080/"
        },
        "outputId": "e86114b2-b8d5-47f5-8511-4a2337ffd91f"
      },
      "source": [
        "Pvalor = int(input(\"Digite um valor: \"))\n",
        "Svalor = int(input(\"digite outro valor: \"))\n",
        "soma = Pvalor + Svalor\n",
        "print(\"A soma desses valores é:\", soma)"
      ],
      "execution_count": 17,
      "outputs": [
        {
          "output_type": "stream",
          "text": [
            "Digite um valor: 4\n",
            "digite outro valor: 4\n",
            "A soma desses valores é: 8\n"
          ],
          "name": "stdout"
        }
      ]
    },
    {
      "cell_type": "markdown",
      "metadata": {
        "id": "4HQxR3FTTbSr"
      },
      "source": [
        "## Exercício 05\n",
        "Elabore um programa que recebe dois valores inteiros e mostra se o primeiro valor é maior ou igual ao segundo valor\n",
        "\n",
        "**Exemplo:**\n",
        "```\n",
        "Primeiro Valor = 3\n",
        "Segundo Valor = 2\n",
        "Resultado = True\n",
        "```"
      ]
    },
    {
      "cell_type": "code",
      "metadata": {
        "id": "OXISQASdTeSW"
      },
      "source": [
        ""
      ],
      "execution_count": null,
      "outputs": []
    },
    {
      "cell_type": "markdown",
      "metadata": {
        "id": "Gn8rHPn3UCnc"
      },
      "source": [
        "## Exercício 06\n",
        "Elabore um programa que recebe o seu nome, endereço e hobby e mostra cada uma das informações da seguinte forma:\n",
        "- Nome -> Letra maiúscula\n",
        "- Endereço -> Letra minúscula\n",
        "- Hobby -> Primeira letra maiúscula\n",
        "\n",
        "**Exemplo Entrada:**\n",
        "```\n",
        "Nome: bruno fabri\n",
        "Endereço: Rua ABC\n",
        "Hobby: jogar cs\n",
        "```\n",
        "\n",
        "**Exemplo Saída:**\n",
        "```\n",
        "Nome: BRUNO FABRI\n",
        "Endereço: rua abc\n",
        "Hobby: Jogar cs\n",
        "```"
      ]
    },
    {
      "cell_type": "code",
      "metadata": {
        "id": "ZIj-PGVZVVP6",
        "colab": {
          "base_uri": "https://localhost:8080/"
        },
        "outputId": "3eeb8bf7-e415-4f60-e448-239631403e33"
      },
      "source": [
        "nome = input(\"Digite seu nome: \")\n",
        "end =  input(\"digite seu endereço: \")\n",
        "hobby = input(\"digite seu hobby:\")\n",
        "\n",
        "print(nome.upper())\n",
        "print(nome.lower())\n",
        "print(nome.title())\n",
        "print(nome.capitalize())\n"
      ],
      "execution_count": 21,
      "outputs": [
        {
          "output_type": "stream",
          "text": [
            "Digite seu nome: ma\n",
            "digite seu endereço: rua2\n",
            "digite seu hobby:atuar\n",
            "MA\n",
            "ma\n",
            "Ma\n",
            "Ma\n"
          ],
          "name": "stdout"
        }
      ]
    },
    {
      "cell_type": "markdown",
      "metadata": {
        "id": "wlvmEAPQNrcL"
      },
      "source": [
        "# Mini Projetos"
      ]
    },
    {
      "cell_type": "markdown",
      "metadata": {
        "id": "W8zwueNBKh4B"
      },
      "source": [
        "## Mini Projeto 01 - Conversor de Moeda\n",
        "Vamos construir um programa que irá converter moedas do real para o dólar e do dólar para o real. Vamos considerar que `$ 1,00 = R$ 5,75`\n",
        "\n",
        "### Parte 1\n",
        "Faça o conversor de moeda receber o valor em real e mostrar o valor convertido para dólar no formato `$ XXXX.XX`\n",
        "\n",
        "**Exemplo:**\n",
        "\n",
        "```\n",
        "Valor em R$ = 1000\n",
        "Valor em $ = $ 173.91\n",
        "```\n",
        "\n",
        "### Parte 2\n",
        "Altere o conversor de moedas para receber o valor em dólar, converter para real e mostrar o resultado no formato `R$ XXXX.XX`\n",
        "\n",
        "**Exemplo:**\n",
        "```\n",
        "Valor em $ = 1000\n",
        "Valor em R$ = R$ 5750.00\n",
        "```"
      ]
    },
    {
      "cell_type": "code",
      "metadata": {
        "id": "mRQ9fpIgMp5Z"
      },
      "source": [
        "d = float(input(\"valor em dolar\"))\n",
        "r = float(input(\"valor em real\"))\n",
        "resposta = r / d\n",
        "print(resposta)\n",
        "\n",
        "r = float(input(\"Digite o valor de r : \"))\n",
        "d = 5.75\n",
        "Resposta = r * 5.75\n",
        "print(Resposta)\n"
      ],
      "execution_count": null,
      "outputs": []
    },
    {
      "cell_type": "markdown",
      "metadata": {
        "id": "0NmAiF2DV_ju"
      },
      "source": [
        "## Mini Projeto 02 - Calculadora de aumento de aluguel\n",
        "Vamos construir um programa que irá calcular o aumento anual do seu aluguel em duas partes:\n",
        "\n",
        "### Parte 1\n",
        "A sua calculadora vai receber o `valor do aluguel` e calcular o aumento baseado no `IGPM de 31%`. A calculadora deve apresentar o aluguel reajustado no formato `R$ XXXX.XX`\n",
        "\n",
        "**Exemplo:**\n",
        "```\n",
        "Valor do aluguel = 1000\n",
        "Valor do aluguel reajustado = R$ 1310,00\n",
        "```\n",
        "\n",
        "### Parte 2\n",
        "Agora, altere sua calculadora para receber além do `valor do aluguel`, o percentual do reajuste no formato `XX%`.  \n",
        "\n",
        "**Dica:** Descubra uma forma de transformar o percentual recebido em um número para efetuar o cálculo.\n",
        "\n",
        "**Exemplo:**\n",
        "```\n",
        "Valor do aluguel = 1000\n",
        "Percentual do reajuste = 31%\n",
        "Valor do aluguel reajustado = R% 1310,00\n",
        "```"
      ]
    },
    {
      "cell_type": "code",
      "metadata": {
        "id": "0eHzSCyaGkYJ",
        "colab": {
          "base_uri": "https://localhost:8080/"
        },
        "outputId": "09338306-71cb-4a67-8815-41f60bec3651"
      },
      "source": [
        "valorD = 1000\n",
        "reajuste = 0.31\n",
        "resposta = valorD * reajuste\n",
        "print(resposta)\n",
        "print(valorD + resposta)\n",
        "\n",
        "valor = 1000\n",
        "porcentagem= input(\"qual a porcentagem de aumento: \")\n",
        "nova_porcentagem = int(porcentagem.replace('%', ''))\n",
        "print(porcentagem)\n",
        "print(nova_porcentagem * 1000)\n",
        "print(soma)"
      ],
      "execution_count": 22,
      "outputs": [
        {
          "output_type": "stream",
          "text": [
            "310.0\n",
            "1310.0\n"
          ],
          "name": "stdout"
        }
      ]
    },
    {
      "cell_type": "markdown",
      "metadata": {
        "id": "xN88sUuMOG46"
      },
      "source": [
        "## Mini Projeto 03 - Calculadora de dano\n",
        "Vamos implementar a calculadora de dano de RPG!!\n",
        "\n",
        "### Parte 1\n",
        "O programa vai receber a `vida e um monstro (entre 10 e 50)` e o `valor do ataque do jogador por turno (entre 5 e 10)`\n",
        "\n",
        "Baseado nos valores, exiba a quantidade de turnos que o jogador irá demorar para conseguir derrotar o monstro.\n",
        "\n",
        "**Exemplo:**\n",
        "```\n",
        "Vida de um monstro (entre 10 e 50): 26\n",
        "Valor do ataque do jogador por turno (entre 5 e 10): 5\n",
        "Resultado: O jogador irá precisar de 6 turnos para derrotar o monstro.\n",
        "```\n",
        "\n",
        "### Parte 2\n",
        "Altere o programa para ao invés de receber a vida do monstro, gerar aleatoriamente um valor entre 10 e 50."
      ]
    },
    {
      "cell_type": "code",
      "metadata": {
        "id": "Mrpz9UomQH2P"
      },
      "source": [
        "vd = int(input(\"Qual a vida do Monstro? Lembre-se a vida deve ter entre 10 e 50:\"))\n",
        "att = int(input(\"Selecione a força de seu ataque! Entre 5 a 10:\"))\n",
        "resultado = round (vd / att)\n",
        "print(resultado)\n",
        "\n",
        "from random import randint\n",
        "vd = randint(10, 50)\n",
        "att = int(input(\"Selecione a força de seu ataque! Entre 5 a 10:\"))\n",
        "resultado = round (vd / att)\n",
        "print(resultado)\n",
        "print(vd)\n"
      ],
      "execution_count": null,
      "outputs": []
    }
  ]
}